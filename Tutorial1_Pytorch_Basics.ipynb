{
  "cells": [
    {
      "cell_type": "markdown",
      "metadata": {
        "id": "view-in-github",
        "colab_type": "text"
      },
      "source": [
        "<a href=\"https://colab.research.google.com/github/WihangaChethiya/ML_Projects/blob/Pytorch_T/Tutorial1_Pytorch_Basics.ipynb\" target=\"_parent\"><img src=\"https://colab.research.google.com/assets/colab-badge.svg\" alt=\"Open In Colab\"/></a>"
      ]
    },
    {
      "cell_type": "markdown",
      "metadata": {
        "id": "xvk5ARGop0I-"
      },
      "source": [
        "![alt text](https://upload.wikimedia.org/wikipedia/commons/thumb/9/96/Pytorch_logo.png/800px-Pytorch_logo.png)"
      ]
    },
    {
      "cell_type": "markdown",
      "metadata": {
        "id": "6lXPugA6p0JC"
      },
      "source": [
        "<h1>Pytorch Basics</h1>"
      ]
    },
    {
      "cell_type": "markdown",
      "metadata": {
        "id": "IJt1ktTQp0JD"
      },
      "source": [
        "<h2>Introduction</h2>\n",
        "As we've seen we can use numpy to create single layer neural networks by calculating the gradients by hand and hard coding them and training them via GD. But what if we want to create larger and more complicated networks? What if we want to use complicated and fancy loss functions or use huge datasets and train with more complicated training regimes?! And what about training on GPUs.......<br>\n",
        "That's a lot to try and work out EVERY time we want to try something new!! Lucky for us there are a number of Deep learning frameworks that can do much of the heavy lifting for us!<br>\n",
        "For this unit we will be using Pytorch, a hugely powerful and widely used Deep Learning framework that lets us do all of the above and MORE"
      ]
    },
    {
      "cell_type": "markdown",
      "metadata": {
        "id": "yd45_LKgp0JE"
      },
      "source": [
        "<h3> Importing the required libraries </h3>\n",
        "Pytorch has two main modules, torch and torchvision<br>\n",
        "torch contains most of the Deep Learning functionalities while torchvision contains many computer vision functions designed to work in hand with torch"
      ]
    },
    {
      "cell_type": "code",
      "execution_count": 1,
      "metadata": {
        "id": "QnIWkduNp0JE"
      },
      "outputs": [],
      "source": [
        "import torch\n",
        "import torchvision\n",
        "import torch.nn as nn\n",
        "import numpy as np\n",
        "import matplotlib.pyplot as plt"
      ]
    },
    {
      "cell_type": "markdown",
      "metadata": {
        "id": "xPE7NaP4p0JF"
      },
      "source": [
        "<h3> The Pytorch Tensor </h3>\n",
        "As we've already explored the \"Tensor\" is a useful concept and is very useful in Machine Learning, however you probably noticed in Numpy that our \"Tensors\" are called \"Arrays\", but now we are in Pytorch this is no more!!<br>\n",
        "Let's do a recap of Numpy arrays and how similar they are to Pytorch tensors."
      ]
    },
    {
      "cell_type": "code",
      "execution_count": 6,
      "metadata": {
        "id": "JApjizwQp0JF"
      },
      "outputs": [],
      "source": [
        "# Create some \"Matrices\" as lists of lists\n",
        "\n",
        "# 3x3\n",
        "W = [[1, 1, 1],\n",
        "     [1.5, 1.5, 1.5],\n",
        "     [2, 2, 2]]\n",
        "\n",
        "# 3x1\n",
        "x = [[6], [7], [8]]\n",
        "# 3x1\n",
        "b = [[1], [1], [1]]\n",
        "\n",
        "# Variable to store output\n",
        "# 3x1\n",
        "y = [[0], [0], [0]]\n"
      ]
    },
    {
      "cell_type": "markdown",
      "metadata": {
        "id": "45g8lIjFp0JG"
      },
      "source": [
        "As we've seen before"
      ]
    },
    {
      "cell_type": "code",
      "execution_count": 7,
      "metadata": {
        "colab": {
          "base_uri": "https://localhost:8080/"
        },
        "id": "bK3zgedop0JG",
        "outputId": "cef2c706-748c-44f7-915c-e1d1c15e9816"
      },
      "outputs": [
        {
          "output_type": "stream",
          "name": "stdout",
          "text": [
            "Output:\n",
            " [[22. ]\n",
            " [32.5]\n",
            " [43. ]]\n",
            "Output shape:\n",
            " (3, 1)\n"
          ]
        }
      ],
      "source": [
        "# We can transform our list of lists into a \"numpy array\" by using the function \"array\"\n",
        "W_np = np.array(W)\n",
        "\n",
        "x_np = np.array(x)\n",
        "\n",
        "# Lets use the function \"ones\" to create an array of ones!\n",
        "b_np = np.ones((3, 1))\n",
        "\n",
        "# Lets now compute Wx + b using these numpy variables!\n",
        "output = np.matmul(W_np, x_np) + b_np\n",
        "\n",
        "# Print out the result\n",
        "print(\"Output:\\n\", output)\n",
        "print(\"Output shape:\\n\", output.shape)"
      ]
    },
    {
      "cell_type": "markdown",
      "metadata": {
        "id": "jnTij_0ep0JH"
      },
      "source": [
        "Now in Pytorch!"
      ]
    },
    {
      "cell_type": "code",
      "execution_count": null,
      "metadata": {
        "id": "nhcm8Zj3p0JH"
      },
      "outputs": [],
      "source": [
        "# We can transform our list of lists into a \"torch tensor\" by using the function \"FloatTensor\"\n",
        "# Note: here we've specified the datatype of the tensor, a 32bit \"float\" you can also just use the function \"tensor\"\n",
        "# But this will inherit the datatype of the array given, to ensure the data-types are the same\n",
        "# (and we can perform the wanted operations) we use \"FloatTensor\"\n",
        "\n",
        "W_torch = torch.FloatTensor(W)\n",
        "\n",
        "x_torch = torch.FloatTensor(x).long()\n",
        "# x_torch = torch.FloatTensor(x).long()\n",
        "\n",
        "\n",
        "# Lets use the function \"ones\" to create an array of ones!\n",
        "b_torch = torch.ones(3, 1)\n",
        "\n",
        "# Lets now compute Wx + b using these numpy variables!\n",
        "output = torch.matmul(W_torch, x_torch) + b_torch\n",
        "\n",
        "# Print out the result\n",
        "print(\"Output:\\n\", output)\n",
        "print(\"Output shape:\\n\", output.shape)"
      ]
    },
    {
      "cell_type": "markdown",
      "metadata": {
        "id": "riYRXplop0JH"
      },
      "source": [
        "Wow! Numpy and Pytorch are remarkably similar, though this is no coincidence! The creators of Pytorch did this intentionally to make it easy to transfer existing skills in Numpy (a Python library that everyone uses - has its origins back in 1995!!) to Pytorch. To aid this transfer there are even functions that can transfer Pytorch tensors to Numpy arrays and back!"
      ]
    },
    {
      "cell_type": "code",
      "execution_count": null,
      "metadata": {
        "id": "V68SUATrp0JH"
      },
      "outputs": [],
      "source": [
        "# Create a random Numpy array\n",
        "np_array = np.random.random((3, 4))\n",
        "print(\"Numpy array:\\n\", np_array)\n",
        "\n",
        "# Convert to Pytorch tensor\n",
        "torch_tensor = torch.FloatTensor(np_array)\n",
        "print(\"Pytorch tensor:\\n\", torch_tensor)\n",
        "\n",
        "# Convert back to a Numpy array!\n",
        "np_array2 = torch_tensor.numpy()\n",
        "print(\"Numpy array:\\n\", np_array2)"
      ]
    },
    {
      "cell_type": "markdown",
      "metadata": {
        "id": "SyCD0l-kp0JH"
      },
      "source": [
        "<h>"
      ]
    },
    {
      "cell_type": "markdown",
      "metadata": {
        "id": "BX1Hl_Otp0JI"
      },
      "source": [
        "<h1>On to Pytorch!</h1>\n",
        "Let's further explore Pytorch and it's similarities to Numpy and then see what new functionalities it brings to the table!!\n",
        "<h3> Basic Element-wise Operations </h3>\n",
        "Let's quickly go back over some basics using Pytorch"
      ]
    },
    {
      "cell_type": "code",
      "execution_count": 8,
      "metadata": {
        "colab": {
          "base_uri": "https://localhost:8080/"
        },
        "id": "hWqwCGbpp0JI",
        "outputId": "14499045-f0f6-4738-96a2-23644e5dd9e4"
      },
      "outputs": [
        {
          "output_type": "stream",
          "name": "stdout",
          "text": [
            "Our 1D Tensor:\n",
            " tensor([[0.7940, 0.2197, 0.4284, 0.7409, 0.5473],\n",
            "        [0.1447, 0.8159, 0.2344, 0.0096, 0.5464],\n",
            "        [0.3686, 0.6678, 0.1133, 0.8829, 0.6454],\n",
            "        [0.8839, 0.9498, 0.2745, 0.2603, 0.2480]])\n",
            "\n",
            "Scalar Multiplication:\n",
            " tensor([[7.9401, 2.1973, 4.2839, 7.4093, 5.4730],\n",
            "        [1.4473, 8.1594, 2.3440, 0.0962, 5.4644],\n",
            "        [3.6858, 6.6782, 1.1328, 8.8287, 6.4545],\n",
            "        [8.8395, 9.4981, 2.7447, 2.6030, 2.4803]])\n",
            "Addition and Square:\n",
            " tensor([[3.2185, 1.4877, 2.0403, 3.0308, 2.3941],\n",
            "        [1.3104, 3.2976, 1.5238, 1.0193, 2.3915],\n",
            "        [1.8730, 2.7816, 1.2394, 3.5452, 2.7075],\n",
            "        [3.5493, 3.8017, 1.6243, 1.5884, 1.5576]])\n",
            "Addition:\n",
            " tensor([[1.5880, 0.4395, 0.8568, 1.4819, 1.0946],\n",
            "        [0.2895, 1.6319, 0.4688, 0.0192, 1.0929],\n",
            "        [0.7372, 1.3356, 0.2266, 1.7657, 1.2909],\n",
            "        [1.7679, 1.8996, 0.5489, 0.5206, 0.4961]])\n",
            "Addition and division:\n",
            " tensor([[0.4426, 0.1801, 0.2999, 0.4256, 0.3537],\n",
            "        [0.1264, 0.4493, 0.1899, 0.0095, 0.3534],\n",
            "        [0.2693, 0.4004, 0.1018, 0.4689, 0.3923],\n",
            "        [0.4692, 0.4871, 0.2154, 0.2065, 0.1987]])\n",
            "\n",
            "Power and square root:\n",
            " tensor([[0.7940, 0.2197, 0.4284, 0.7409, 0.5473],\n",
            "        [0.1447, 0.8159, 0.2344, 0.0096, 0.5464],\n",
            "        [0.3686, 0.6678, 0.1133, 0.8829, 0.6454],\n",
            "        [0.8839, 0.9498, 0.2745, 0.2603, 0.2480]])\n",
            "\n",
            "Y -\n",
            " Min:0.01\n",
            " Max:0.95\n",
            " Standard Deviation:0.29\n",
            " Sum:9.78\n"
          ]
        }
      ],
      "source": [
        "# Lets create a 2D Tensor using torch.rand\n",
        "y = torch.rand(4, 5)\n",
        "# This will create a \"Vector\" of numbers from 0 to 1\n",
        "print(\"Our 1D Tensor:\\n\",y)\n",
        "\n",
        "# We can perform normal python scalar arithmetic on Torch tensors\n",
        "print(\"\\nScalar Multiplication:\\n\",y * 10)\n",
        "print(\"Addition and Square:\\n\",(y + 1)**2)\n",
        "print(\"Addition:\\n\",y + y)\n",
        "print(\"Addition and division:\\n\",y / (y + 1))\n",
        "\n",
        "# We can use a combination of Torch functions and normal python arithmetic\n",
        "print(\"\\nPower and square root:\\n\",torch.sqrt(y**2))\n",
        "\n",
        "# Torch tensors are objects and have functions\n",
        "print(\"\\nY -\\n Min:%.2f\\n Max:%.2f\\n Standard Deviation:%.2f\\n Sum:%.2f\" %(y.min(), y.max(), y.std(), y.sum()))"
      ]
    },
    {
      "cell_type": "markdown",
      "metadata": {
        "id": "MMMVbXa5p0JI"
      },
      "source": [
        "<h3>Tensor Opperations</h3>"
      ]
    },
    {
      "cell_type": "code",
      "execution_count": 9,
      "metadata": {
        "colab": {
          "base_uri": "https://localhost:8080/"
        },
        "id": "8aKdPU14p0JI",
        "outputId": "7648009c-3249-4451-80cb-f6d399cf8220"
      },
      "outputs": [
        {
          "output_type": "stream",
          "name": "stdout",
          "text": [
            "Addition:\n",
            " tensor([[[1.5561, 1.2500, 1.7844],\n",
            "         [0.4108, 1.2666, 1.6685],\n",
            "         [0.9253, 1.7916, 0.7734]],\n",
            "\n",
            "        [[1.1881, 1.5393, 1.5437],\n",
            "         [1.0691, 0.9862, 0.4337],\n",
            "         [1.2764, 0.9776, 1.3533]],\n",
            "\n",
            "        [[0.3906, 1.2639, 1.2480],\n",
            "         [0.1141, 0.7801, 1.5731],\n",
            "         [0.5644, 0.4170, 1.0524]]])\n",
            "Batch Multiplication:\n",
            " tensor([[[1.1085, 1.7992, 1.7491],\n",
            "         [0.4441, 1.0374, 0.6436],\n",
            "         [0.8657, 1.5616, 1.5301]],\n",
            "\n",
            "        [[0.9032, 1.0766, 1.2315],\n",
            "         [0.6294, 0.6932, 0.7593],\n",
            "         [0.8702, 1.1272, 1.3402]],\n",
            "\n",
            "        [[0.2066, 0.6124, 0.8992],\n",
            "         [0.2211, 0.3520, 0.5100],\n",
            "         [0.2492, 0.4139, 0.5624]]])\n"
          ]
        }
      ],
      "source": [
        "# Create two 3D Tensors\n",
        "tensor_1 = torch.rand(3,3,3)\n",
        "tensor_2 = torch.rand(3,3,3)\n",
        "\n",
        "# Add the 2 Tensors\n",
        "print(\"Addition:\\n\",tensor_1 + tensor_2)\n",
        "\n",
        "# We cannot perform a normal \"matrix\" multiplication on a 3D tensor\n",
        "# But we can treat the 3D tensor as a \"batch\" (like a stack) of 2D tensors\n",
        "# And perform normal matrix multiplication independantly on each pair of 2D matricies\n",
        "print(\"Batch Multiplication:\\n\", torch.bmm(tensor_1, tensor_2))"
      ]
    },
    {
      "cell_type": "code",
      "execution_count": null,
      "metadata": {
        "id": "tuUG_qOxp0JJ"
      },
      "outputs": [],
      "source": [
        "# Lets create a more interesting tensor\n",
        "tensor_3 = torch.rand(2,4,5)\n",
        "# We can swap the Tensor dimensions\n",
        "print(\"\\nThe origional Tensor is is:\\n\", tensor_3)\n",
        "print(\"With shape:\\n\", tensor_3.shape)\n",
        "\n",
        "# Tranpose will swap the dimensions it is given\n",
        "print(\"The Re-arranged is:\\n\", tensor_3.transpose(0,2))\n",
        "print(\"With shape:\\n\", tensor_3.transpose(0,2).shape)"
      ]
    },
    {
      "cell_type": "markdown",
      "metadata": {
        "id": "qApRmQw5p0JJ"
      },
      "source": [
        "<h3> Indexing </h3>\n",
        "Indexing in Pytorch works the same as it does in Numpy, see if you can predict what values will be return by the indexing"
      ]
    },
    {
      "cell_type": "code",
      "execution_count": null,
      "metadata": {
        "id": "ZlCtWiqip0JJ"
      },
      "outputs": [],
      "source": [
        "# Create a 4D Tensor\n",
        "tensor = torch.rand(2,3,1,4)\n",
        "print(\"Our Tensor:\\n\",tensor)\n",
        "\n",
        "# Select the last element of dim0\n",
        "print(\"\\nThe last element of dim0:\\n\",tensor[-1])\n",
        "\n",
        "# 1st element of dim0\n",
        "# 2nd element of dim1\n",
        "print(\"\\nIndexed elements:\\n\",tensor[0, 1])\n",
        "\n",
        "# Select all elements of dim0\n",
        "# The 2nd element of dim1\n",
        "# The 1st element of dim2\n",
        "# The 3rd element of dim3\n",
        "print(\"\\nIndexed elements:\\n\",tensor[:, 1, 0, 2])"
      ]
    },
    {
      "cell_type": "markdown",
      "source": [
        "A \\((2,3,1,4)\\) tensor is a multi-dimensional array or mathematical object with a shape of \\(2 \\times 3 \\times 1 \\times 4\\). Each dimension or axis of the tensor has a specific size, indicating how many elements it contains along that axis. Here's what each number represents in this context:\n",
        "\n",
        "1. The first dimension has a size of 2.\n",
        "2. The second dimension has a size of 3.\n",
        "3. The third dimension has a size of 1.\n",
        "4. The fourth dimension has a size of 4.\n",
        "\n",
        "So, this tensor can be visualized as a 4-dimensional array with the following structure:\n",
        "- 2 \"slices\" (first dimension),\n",
        "- Each slice containing 3 \"rows\" (second dimension),\n",
        "- Each row containing 1 \"column\" (third dimension),\n",
        "- Each column containing 4 elements (fourth dimension).\n",
        "\n",
        "In mathematical or programming terms, this tensor can be represented in various ways depending on the context, such as in Python using NumPy:\n",
        "\n",
        "```python\n",
        "import numpy as np\n",
        "\n",
        "tensor = np.zeros((2, 3, 1, 4))\n",
        "```\n",
        "\n",
        "Here, `tensor` is initialized as a \\(2 \\times 3 \\times 1 \\times 4\\) array filled with zeros.\n",
        "\n",
        "Tensors are widely used in fields like physics, engineering, and machine learning, where they can represent complex data structures or transformations."
      ],
      "metadata": {
        "id": "lLOJCaUkupN2"
      }
    },
    {
      "cell_type": "markdown",
      "metadata": {
        "id": "4VzjW4wIp0JJ"
      },
      "source": [
        "<h3> Describing Tensors </h3> <br>\n",
        "Lets see how we can view the characteristics of our Tensors"
      ]
    },
    {
      "cell_type": "code",
      "execution_count": 10,
      "metadata": {
        "colab": {
          "base_uri": "https://localhost:8080/"
        },
        "id": "nVIt43mUp0JJ",
        "outputId": "39d87de3-c0ff-4ea5-d755-130a1ea961bf"
      },
      "outputs": [
        {
          "output_type": "stream",
          "name": "stdout",
          "text": [
            "The Tensor's shape is: torch.Size([3, 5, 3, 2])\n",
            "The Tensor's shape using size() is: torch.Size([3, 5, 3, 2])\n",
            "There are 90 elements in total:\n",
            "There are 4 Dimensions\n"
          ]
        }
      ],
      "source": [
        "# Lets create a large 4D Tensor\n",
        "tensor = torch.rand(3, 5, 3, 2)\n",
        "\n",
        "# View the Number of elements in every dimension\n",
        "print(\"The Tensor's shape is:\", tensor.shape)\n",
        "\n",
        "# In Pytorch shape and size() do the same thing!\n",
        "print(\"The Tensor's shape using size() is:\", tensor.size())\n",
        "\n",
        "# View the number of elements in total\n",
        "print(\"There are %d elements in total:\" % tensor.numel())\n",
        "\n",
        "# View the number of Dimensions\n",
        "print(\"There are %d Dimensions\" %(tensor.ndim))"
      ]
    },
    {
      "cell_type": "markdown",
      "source": [
        "# 2024/07/10\n",
        "https://youtu.be/wk5wYZPejCE?si=U0_ZZXFrLc_ateRp&t=863"
      ],
      "metadata": {
        "id": "eucPvEOtu5Bj"
      }
    },
    {
      "cell_type": "markdown",
      "metadata": {
        "id": "OxLYhI3Mp0JK"
      },
      "source": [
        "<h3> Reshaping </h3> <br>\n",
        "We can change a Tensor to one of the same size (same number of elements) but a different shape by using functions in a similar fashion to Numpy but with different functions!"
      ]
    },
    {
      "cell_type": "code",
      "execution_count": null,
      "metadata": {
        "id": "M_lxHkSFp0JK"
      },
      "outputs": [],
      "source": [
        "# Let us reshape our Tensor to a 2D Tensor\n",
        "print(\"Reshape to 3x30:\\n\", tensor.reshape(3, 30))\n",
        "\n",
        "# We can also use the Flatten method to convert to a 1D Tensor\n",
        "print(\"Flatten to a 1D Tensor:\\n\",tensor.flatten())\n",
        "\n",
        "# Here the -1 tells Pytorch to put as many elements as it needs here in order to maintain the given dimention sizes\n",
        "# AKA \"I don't care the size of this dimention as long as the first one is 10\"\n",
        "print(\"Reshape to 10xwhatever:\\n\",tensor.reshape(10, -1))"
      ]
    },
    {
      "cell_type": "markdown",
      "metadata": {
        "id": "NRGSr1ZRp0JK"
      },
      "source": [
        "<h4>Squeezing and Unsqueezing </h4>\n",
        "A very common shape-changing operation is to add an \"empty\" dimension to ensure the shape (specifically the number of dimensions) of the tensor is correct for certain functions. <br>\n",
        "For example, when we start using Pytorch Neural Network modules, we need to provide the input of the network with a \"batch\" dimension (we often pass multiple inputs to our network at once) even if we only pass 1 datapoint!"
      ]
    },
    {
      "cell_type": "code",
      "execution_count": null,
      "metadata": {
        "id": "2uy4R-RJp0JK"
      },
      "outputs": [],
      "source": [
        "# Lets create a 2D Tensor\n",
        "tensor = torch.rand(3, 2)\n",
        "\n",
        "# View the Number of elements in every dimension\n",
        "print(\"The Tensors shape is:\", tensor.shape)\n",
        "\n",
        "# Unsqueeze adds an \"empty\" dimension to our Tensor\n",
        "print(\"Add an empty dimenson to dim3:\", tensor.unsqueeze(2).shape)\n",
        "\n",
        "# Unsqueeze adds an \"empty\" dimension to our Tensor\n",
        "print(\"Add an empty dimenson to dim2:\", tensor.unsqueeze(1).shape)"
      ]
    },
    {
      "cell_type": "code",
      "execution_count": null,
      "metadata": {
        "id": "vNUcfappp0JK"
      },
      "outputs": [],
      "source": [
        "# Lets create a 4D Tensor with a few \"empty\" dimensions\n",
        "tensor = torch.rand(1, 3, 1, 2)\n",
        "\n",
        "# view the Number of elements in every dimension\n",
        "print(\"The Tensors shape is:\", tensor.shape)\n",
        "\n",
        "# squeeze removes an \"empty\" dimension from our Tensor\n",
        "print(\"Remove empty dimenson dim3:\", tensor.squeeze(2).shape)\n",
        "\n",
        "# squeeze removes an \"empty\" dimension from our Tensor\n",
        "print(\"Remove empty dimenson dim0:\", tensor.squeeze(0).shape)\n",
        "\n",
        "# If we don't specify a dimension, squeeze will remove ALL empty dimensions\n",
        "print(\"Remove all empty dimensons:\", tensor.squeeze().shape)"
      ]
    },
    {
      "cell_type": "markdown",
      "metadata": {
        "id": "jFYHib3Vp0JK"
      },
      "source": [
        "<h3> Broadcasting </h3>\n",
        "Broadcasting also works in Pytorch!"
      ]
    },
    {
      "cell_type": "code",
      "execution_count": null,
      "metadata": {
        "id": "bcioXbsOp0JK"
      },
      "outputs": [],
      "source": [
        "# Lets create 2 differently shaped 4D Tensors (Matrices)\n",
        "tensor1 = torch.rand(1, 4, 3, 1)\n",
        "tensor2 = torch.rand(3, 4, 1, 4)\n",
        "\n",
        "print(\"Tensor 1 shape:\\n\", tensor1.shape)\n",
        "print(\"Tensor 2 shape:\\n\", tensor2.shape)\n",
        "\n",
        "tensor3 = tensor1 + tensor2\n",
        "\n",
        "print(\"The resulting shape is:\\n\", tensor3.shape)"
      ]
    },
    {
      "cell_type": "markdown",
      "metadata": {
        "id": "ErYcVKb2p0JL"
      },
      "source": [
        "<h1> Pytorch Autograd </h1>\n",
        "<h3>Lets see Numpy do this!</h3>\n",
        "Now on to something that makes Pytorch (and other Deep Learning frameworks) unique, the auto-differentiable computational graphs! (don't worry about how this exactly works)<br>\n",
        "\n",
        "Remember how we compute the gradients of parameters (weights) of a model by \"backpropagation\". First we calculate the \"gradient\" of the loss with respect to the model's output and then using the chain rule find the gradient of the loss with respect to the parameters or the input and on and on for larger networks. Seems like a pretty repetitive process governed by some well known rules right? Well you know what is good at doing repetitive well defined things?!?! Computers!!<br>\n",
        "\n",
        "[Youtube - Backpropagation Main Ideas by StatQuest](https://www.youtube.com/watch?v=IN2XmBhILt4&list=PLblh5JKOoLUIxGDQs4LFFD--41Vzf-ME1&index=6)\n",
        "\n",
        "[Youtube - What is backpropagation really doing? by 3Blue1Brown](https://www.youtube.com/watch?v=Ilg3gGewQ5U)\n",
        "\n",
        "[Blog - Yes you should understand backprop by Andrej Karpathy](https://karpathy.medium.com/yes-you-should-understand-backprop-e2f06eab496b)\n",
        "\n",
        "This \"automatic\" backpropagation (among other things) is what Pytorch REALLY gives us that makes training Neural Networks easy. So how does it do it? Well first Pytorch keeps track of everything we do!! (unless we tell it not to) It does this by forming a \"computational graph\" - a tree-like structure of all the operations we perform starting at some initial tensor. When we tell Pytorch to backpropagate from some point, it works backwards up this tree and calculates and stores the gradients with respect to the point from where we back propagated from."
      ]
    },
    {
      "cell_type": "markdown",
      "metadata": {
        "id": "O12u8XrBp0JL"
      },
      "source": [
        "Lets see an example of this!"
      ]
    },
    {
      "cell_type": "code",
      "execution_count": null,
      "metadata": {
        "id": "Bu7EUS5hp0JL"
      },
      "outputs": [],
      "source": [
        "# Lets create some tensors, requires_grad tells Pytorch we want to store the gradients for this tensor\n",
        "# we need to do this if we are working with basic Pytorch tensors\n",
        "x = torch.FloatTensor([4])\n",
        "x.requires_grad = True\n",
        "w = torch.FloatTensor([2])\n",
        "w.requires_grad = True\n",
        "b = torch.FloatTensor([3])\n",
        "b.requires_grad = True\n",
        "\n",
        "# By performing a simple computation Pytorch will build a computational graph.\n",
        "y = w * x + b    # y = 2 * x + 3\n",
        "\n",
        "# It's easy to see that\n",
        "# dy/dx = w = 2\n",
        "# dy/dw = x = 4\n",
        "# dy/db = 1\n",
        "\n",
        "# Compute gradients via Pytorch's Autograd\n",
        "y.backward()\n",
        "\n",
        "# Print out the calculated gradients\n",
        "# These gradients are the gradients with respect to the point where we backprop'd from - y\n",
        "# Create your own equation and use the auto backprop to see the partial derivatives!\n",
        "print(\"Calculated Gradients\")\n",
        "print(\"dy/dx\", x.grad.item())    # x.grad = dy/dx = 2\n",
        "print(\"dy/dw\", w.grad.item())    # w.grad = dy/dw = 4\n",
        "print(\"dy/db\", b.grad.item())   # b.grad = dy/db = 1\n",
        "# Note: .item() simply returns a 0D Tensor as a Python scalar"
      ]
    },
    {
      "cell_type": "markdown",
      "metadata": {
        "id": "5FyaaRyvp0JL"
      },
      "source": [
        "<h3> Finding the minimum </h3>\n",
        "We can use gradient decent to find the minimum of an equation"
      ]
    },
    {
      "cell_type": "code",
      "execution_count": null,
      "metadata": {
        "id": "YUUlCUzrp0JL"
      },
      "outputs": [],
      "source": [
        "# Lets find the minimum of a parabola!\n",
        "\n",
        "# Define the equation as a lambda function\n",
        "fx = lambda  x: x**2 + 1.5 * x - 1\n",
        "\n",
        "x = np.linspace(-10, 8.5, 100)\n",
        "\n",
        "plt.plot(x, fx(x))"
      ]
    },
    {
      "cell_type": "code",
      "execution_count": null,
      "metadata": {
        "id": "slQtSiefp0JL"
      },
      "outputs": [],
      "source": [
        "# Create a random point X\n",
        "x_ = torch.randn(1)\n",
        "x_.requires_grad = True\n",
        "\n",
        "# Lets use Pytorch's Autograd to find the gradient at this point\n",
        "y_ = fx(x_)\n",
        "y_.backward()\n",
        "\n",
        "# The gradient tells us the direction to travel to increase Y\n",
        "dy_dx_ = x_.grad.item()\n",
        "print(\"dy/dx is %.2f when x is %.2f\" % (dy_dx_, x_))"
      ]
    },
    {
      "cell_type": "code",
      "execution_count": null,
      "metadata": {
        "id": "uBXdnwsGp0JM"
      },
      "outputs": [],
      "source": [
        "# Lets take some steps to decend the gradient!\n",
        "\n",
        "# Create a random point X\n",
        "x_ = torch.randn(1)\n",
        "x_.requires_grad = True\n",
        "\n",
        "# Create some loggers\n",
        "x_logger = []\n",
        "y_logger = []\n",
        "\n",
        "# We'll keep track of how many steps we've done\n",
        "counter = 0\n",
        "\n",
        "# Set a scale for the step size\n",
        "learning_rate = 0.01\n",
        "\n",
        "# Initialise the gradient to a large value\n",
        "dy_dx_ = 1000\n",
        "\n",
        "# We'll limit the max number of steps so we don't create an infinite loop\n",
        "max_num_steps = 1000\n",
        "\n",
        "# Keep taking steps untill the gradient is small\n",
        "while np.abs(dy_dx_) > 0.001:\n",
        "    # Get the Y point at the current x value\n",
        "    y_ = fx(x_)\n",
        "\n",
        "    # Calculate the gradient at this point\n",
        "    y_.backward()\n",
        "    dy_dx_ = x_.grad.item()\n",
        "\n",
        "    # Pytorch will not keep track of operations within a torch.no_grad() block\n",
        "    # We don't want Pytorch to add our gradient decent step to the computational graph!\n",
        "    with torch.no_grad():\n",
        "        # Take a step down (decend) the curve\n",
        "        x_ -= learning_rate * dy_dx_\n",
        "\n",
        "        # Pytorch will accumulate the gradient over multiple backward passes\n",
        "        # For our use case we don't want this to happen so we need to set it to zero\n",
        "        # After we have used it\n",
        "        x_.grad.zero_()\n",
        "\n",
        "        # Log the X and Y points to plot\n",
        "        x_logger.append(x_.item())\n",
        "        y_logger.append(y_.item())\n",
        "\n",
        "    counter += 1\n",
        "\n",
        "    if counter == max_num_steps:\n",
        "        break\n",
        "\n",
        "print(\"Y minimum is %.2f and is when X = %.2f, found after %d steps\" % (y_.item(), x_.item(), counter))"
      ]
    },
    {
      "cell_type": "markdown",
      "metadata": {
        "id": "1GcPdrFAp0JM"
      },
      "source": [
        "<h1>Models and Optimizers</h1>\n",
        "\n",
        "<h2>Pytorch nn.Module</h2>\n",
        "In Pytorch the basic template for creating our models is the \"Module\" class within torch.nn. To create our own class we inherit this class as the \"superclass\" so that we have access to all the properties and functions. <br>\n",
        "Lets create our own constructor of this class!\n",
        "\n",
        "The two main functions we need to create are the <b>\\__init__</b> and <b>forward</b> functions. We've already seen <b>\\__init__</b> so lets looks at <b>forward</b><br>\n",
        "\n",
        "The <b>forward</b> function is the only function that we MUST create when we build our class, Pytorch uses this fuction as the \"entry point\" to our model and is what is called when we do a forward pass of our model.\n"
      ]
    },
    {
      "cell_type": "code",
      "execution_count": null,
      "metadata": {
        "id": "ZprLfWlDp0JM"
      },
      "outputs": [],
      "source": [
        "class SimpleFunction(nn.Module):\n",
        "    \"\"\"\n",
        "    Simple implementation of an nn.Module subclass\n",
        "    Takes the input (x) and returns x * 4 + 2\n",
        "    \"\"\"\n",
        "    def __init__(self):\n",
        "        # Pass our class and self to superclass and call the superclass's init function\n",
        "        super(SimpleFunction, self).__init__()\n",
        "\n",
        "    def forward(self, x):\n",
        "        return x * 4 + 2"
      ]
    },
    {
      "cell_type": "code",
      "execution_count": null,
      "metadata": {
        "id": "bdoRtndzp0JR"
      },
      "outputs": [],
      "source": [
        "# Create an instance of our class\n",
        "simple_function = SimpleFunction()\n",
        "# Perform a \"forward pass\" of our class\n",
        "output = simple_function(10)\n",
        "print(\"Class output:\", output)\n",
        "# Note we do NOT need to explicitly call the .forward() function of our class,\n",
        "# a forward pass of our models is such a common step that Pytorch makes it easier and cleaner for us to do"
      ]
    },
    {
      "cell_type": "markdown",
      "metadata": {
        "id": "4B8qV3QDp0JR"
      },
      "source": [
        "<h3>A more complicated model </h3><br>\n",
        "The previous nn.Module class that we created wasn't really a ML \"model\", lets create something that we've seen before; a simple linear model."
      ]
    },
    {
      "cell_type": "code",
      "execution_count": null,
      "metadata": {
        "id": "GN72-cAHp0JR"
      },
      "outputs": [],
      "source": [
        "class LinearModel(nn.Module):\n",
        "    \"\"\"\n",
        "    Takes the input (x) and returns x * w^t + b\n",
        "    \"\"\"\n",
        "    def __init__(self, input_size, output_size):\n",
        "        # Pass our class and self to superclass and call the superclass's init function\n",
        "        super(LinearModel, self).__init__()\n",
        "        # nn.Parameter wraps our normal tensors and \"tells\" Pytorch\n",
        "        # that they are our nn.Module's model parameters to be optimized\n",
        "        self.w = nn.Parameter(torch.randn(output_size, input_size))\n",
        "        self.b = nn.Parameter(torch.randn(1, output_size))\n",
        "\n",
        "    def forward(self, x):\n",
        "        return torch.matmul(x,  self.w.t()) + self.b"
      ]
    },
    {
      "cell_type": "code",
      "execution_count": null,
      "metadata": {
        "id": "7HNvrrltp0JR"
      },
      "outputs": [],
      "source": [
        "# Create a batch of 10 datapoints each 5D\n",
        "input_data = torch.randn(10, 5)\n",
        "\n",
        "# Create an instance of our Model\n",
        "linear_model = LinearModel(5, 1)\n",
        "\n",
        "# Perform a forward pass!\n",
        "output = linear_model(input_data)\n",
        "\n",
        "print(output.shape)\n",
        "print(output.detach())\n",
        "# Note: detach \"disconnects\" the tensor and returns it with no history of previous calculations"
      ]
    },
    {
      "cell_type": "markdown",
      "metadata": {
        "id": "4z6lcCrAp0JR"
      },
      "source": [
        "<h2>Pytorch inbuilt Neural Network Layers</h2>\n",
        "The \"Linear layer\" is so common place that Pytorch already has an implementation of it, in fact Pytorch has implementations of most Layer types which act as building blocks for our multi-layer models. For now lets just see how we can implement Pytorch's linear layer (we will see may more layer types later in the semester!).<br>\n",
        "<b>Things to know!</b><br>\n",
        "- Pytorch initialises the weights and biases of it's layers in very particular ways (not just from a normal distribution!), usualy based off of deep learning research, see the documentation for more details.<br>\n",
        "- Pytorch includes a bias term in it's layers by default."
      ]
    },
    {
      "cell_type": "code",
      "execution_count": null,
      "metadata": {
        "id": "85kPrNzPp0JR"
      },
      "outputs": [],
      "source": [
        "# Build a linear layer aka a \"fully connected\" layer aka a \"Perceptron\" layer\n",
        "# nn.Linear(Number of inputs, Number of outputs)\n",
        "linear = nn.Linear(3, 1)\n",
        "\n",
        "# Lets have a look at the parameters of this layer\n",
        "# The \"weights\" are what is multipied by the input data\n",
        "print ('w:\\n', linear.weight.data)\n",
        "# The bias is then added on!\n",
        "print ('b:\\n', linear.bias.data)\n",
        "\n",
        "print ('w shape:\\n', linear.weight.data.shape)\n",
        "print ('b shape:\\n', linear.bias.data.shape)\n",
        "# Note: .data just gives us the raw Tensor without any connection to the computational graph\n",
        "# - it looks nicer when we print it out\n",
        "# Note: The opperation the linear layer performs is y = x*A^t + b\n",
        "# where A^t is the transpose of the weights and b is the bias,\n",
        "# this opperation is also know as an \"affine transformation\""
      ]
    },
    {
      "cell_type": "code",
      "execution_count": null,
      "metadata": {
        "id": "H8SWgC5Op0JS"
      },
      "outputs": [],
      "source": [
        "# Lets have a look at the gradients of these parameters\n",
        "print ('w:\\n', linear.weight.grad)\n",
        "print ('b:\\n', linear.bias.grad)\n",
        "# Note: Pytorch initialises the grad of the tensors to \"None\" NOT 0!\n",
        "# They only get created after the first backwards pass."
      ]
    },
    {
      "cell_type": "code",
      "execution_count": null,
      "metadata": {
        "id": "TknaQ3aYp0JS"
      },
      "outputs": [],
      "source": [
        "# Create a random data input tensor\n",
        "data = torch.randn(100, 3)\n",
        "# Create some noisey target data\n",
        "target = data.sum(1, keepdims=True) + 0.01*torch.randn(data.shape[0], 1)\n",
        "print ('Input data:\\n', data[:10])\n",
        "print ('Output data:\\n', target[:10])"
      ]
    },
    {
      "cell_type": "markdown",
      "metadata": {
        "id": "0gXmNUp6p0JS"
      },
      "source": [
        "Now that everything is set up, lets perform a \"forward pass\" of our model, aka let's put the data into the model and see what comes out."
      ]
    },
    {
      "cell_type": "code",
      "execution_count": null,
      "metadata": {
        "id": "8SGxh2ITp0JS"
      },
      "outputs": [],
      "source": [
        "# Remember! To perform a forward pass of our model, we just need to \"call\" our network\n",
        "# Pytorch's nn.Module class will automatically pass it to the \"forward\" function in the layer class\n",
        "target_pred = linear(data)\n",
        "print(\"Network output:\\n\", target_pred.data[:10])\n",
        "print(\"Network output shape:\", target_pred.shape)"
      ]
    },
    {
      "cell_type": "markdown",
      "metadata": {
        "id": "dAzzCNtSp0JS"
      },
      "source": [
        "<h3>Loss Functions and Optimizers</h3>\n",
        "Now lets see how Pytorch helps us optimize our model!<br>\n",
        "<b>Loss functions</b><br>\n",
        "We've already seen loss function's before and defined our own, but using Pytorch we can pick from some pre-defined functions (we can also just create our own).\n",
        "\n",
        "<b>Optimizers</b><br>\n",
        "This is the object that will be doing the parameter updates for us! Pytorch has a number of different optimizers, some of which we will explore in future labs. For now we will just use our well known Gradient Descent (GD) optimizer.<br>\n",
        "Note: Most optimizers are just some variant of GD"
      ]
    },
    {
      "cell_type": "code",
      "execution_count": null,
      "metadata": {
        "id": "4KR0pAizp0JS"
      },
      "outputs": [],
      "source": [
        "# Lets perform a regression with a mean square error loss\n",
        "loss_function = nn.MSELoss()\n",
        "\n",
        "# Lets create a Stochastic gradient descent optimizer with a learning rate of 0.01\n",
        "# (the way we will be using it, it is just normal GD)\n",
        "# When we create the optimizer we need to tell it WHAT it needs to optimize, so the first thing\n",
        "# We pass it are the linear layer's \"parameters\"\n",
        "optimizer = torch.optim.SGD(linear.parameters(), lr=0.01)"
      ]
    },
    {
      "cell_type": "markdown",
      "metadata": {
        "id": "HjkNsvSDp0JS"
      },
      "source": [
        "We can see from the following scatter plot that the outout of our model is NOT the same as our target data, let's see what the MSE loss is."
      ]
    },
    {
      "cell_type": "code",
      "execution_count": null,
      "metadata": {
        "id": "6Pzi8wXfp0JT"
      },
      "outputs": [],
      "source": [
        "# Plotting the first dimension of the input vs the output\n",
        "\n",
        "# Use the outputs of the model from a few cells ago\n",
        "plt.scatter(data[:, 0], target_pred.detach())\n",
        "# Use the Ground Truth data\n",
        "plt.scatter(data[:, 0], target, marker=\"x\")\n",
        "plt.legend([\"Predictions\", \"Ground Truth Data\"])\n",
        "plt.xlabel(\"Inputs\")\n",
        "plt.ylabel(\"Ouputs\")"
      ]
    },
    {
      "cell_type": "code",
      "execution_count": null,
      "metadata": {
        "id": "nLYYEd2Jp0JT"
      },
      "outputs": [],
      "source": [
        "loss = loss_function(target_pred, target)\n",
        "print('loss:', loss.item())"
      ]
    },
    {
      "cell_type": "markdown",
      "metadata": {
        "id": "9IG4Ue2fp0JT"
      },
      "source": [
        "Lets perform a backward pass of our model to compute the gradients!"
      ]
    },
    {
      "cell_type": "code",
      "execution_count": null,
      "metadata": {
        "id": "QshXCDZHp0JT"
      },
      "outputs": [],
      "source": [
        "# Backward pass.\n",
        "loss.backward()\n",
        "# Print out the gradients.\n",
        "print ('dL/dw: ', linear.weight.grad)\n",
        "print ('dL/db: ', linear.bias.grad)\n",
        "# Note for every backwards pass of the model we must first perform a forward pass\n",
        "# as data from parts of the computational graph have been deleted upon the backward pass to save memory.\n",
        "# We can tell Pytorch to hold onto this data, but, in many cases it needs to be recalculated anyway"
      ]
    },
    {
      "cell_type": "markdown",
      "metadata": {
        "id": "EsJnNpdqp0JT"
      },
      "source": [
        "Now, finally, tell the optimizer to perform an update step!"
      ]
    },
    {
      "cell_type": "code",
      "execution_count": null,
      "metadata": {
        "id": "0dvw8r4Dp0JT"
      },
      "outputs": [],
      "source": [
        "# he critical step to update the parameter which reduce the loss\n",
        "optimizer.step()\n",
        "\n",
        "# Perform another forward pass of the model to check the new loss\n",
        "target_pred = linear(data)\n",
        "loss = loss_function(target_pred, target)\n",
        "print('loss after 1 step optimization: ', loss.item())"
      ]
    },
    {
      "cell_type": "markdown",
      "metadata": {
        "id": "Et6sof3cp0JU"
      },
      "source": [
        "<h3>The Training Loop</h3>\n",
        "Our loss has gone down!! Lets see how low we can get it to go by constructing a training loop!<br>\n",
        "For MOST tasks (but not all) a simgle training iteration in Pytorch can be summarised in the following 5 steps:<br>\n",
        "- Forward pass of our model with the data.<br>\n",
        "- Calculate the loss.<br>\n",
        "- Reset the current stored gradients to 0<br>\n",
        "- Backpropagate the loss to calculate the new gradients.<br>\n",
        "- Perform an optimization step.<br>\n",
        "<br>\n",
        "We perform these steps over and over until our model has converged or some other point has been reached (depending on the application)"
      ]
    },
    {
      "cell_type": "code",
      "execution_count": null,
      "metadata": {
        "id": "8fSf4TNZp0JU"
      },
      "outputs": [],
      "source": [
        "# Lets create an empty array to log the loss\n",
        "loss_logger = []\n",
        "\n",
        "# Lets perform 100 itterations of our dataset\n",
        "for i in range(1000):\n",
        "    # Perform a forward pass of our data\n",
        "    target_pred = linear(data)\n",
        "\n",
        "    # Calculate the loss\n",
        "    loss = loss_function(target_pred, target)\n",
        "\n",
        "    # .zero_grad sets the stored gradients to 0\n",
        "    # If we didn't do this they would be added to the\n",
        "    # Gradients from the previous step!\n",
        "    optimizer.zero_grad()\n",
        "\n",
        "    # Calculate the new gradients\n",
        "    loss.backward()\n",
        "\n",
        "    # Perform an optimization step!\n",
        "    optimizer.step()\n",
        "\n",
        "    loss_logger.append(loss.item())\n",
        "\n",
        "print(\"loss:\", loss.item())"
      ]
    },
    {
      "cell_type": "markdown",
      "metadata": {
        "id": "_z073HyXp0JU"
      },
      "source": [
        "Lets graph out the loss!"
      ]
    },
    {
      "cell_type": "code",
      "execution_count": null,
      "metadata": {
        "id": "_E4zkzFVp0JU"
      },
      "outputs": [],
      "source": [
        "plt.plot(loss_logger)"
      ]
    },
    {
      "cell_type": "code",
      "execution_count": null,
      "metadata": {
        "id": "Kz0aucO3p0JU"
      },
      "outputs": [],
      "source": [
        "# Plotting the first dimension of the input vs the output\n",
        "plt.scatter(data[:, 0], target_pred.detach())\n",
        "plt.scatter(data[:, 0], target, marker=\"x\")\n",
        "plt.legend([\"Predictions\", \"Ground Truth\"])\n",
        "plt.xlabel(\"Inputs\")\n",
        "plt.ylabel(\"Ouputs\")"
      ]
    },
    {
      "cell_type": "markdown",
      "metadata": {
        "id": "uQn8bZOBp0JU"
      },
      "source": [
        "<h2>Wohoo! We trained our first Pytorch neural network!!<h2>"
      ]
    }
  ],
  "metadata": {
    "kernelspec": {
      "display_name": "Python 3",
      "language": "python",
      "name": "python3"
    },
    "language_info": {
      "codemirror_mode": {
        "name": "ipython",
        "version": 3
      },
      "file_extension": ".py",
      "mimetype": "text/x-python",
      "name": "python",
      "nbconvert_exporter": "python",
      "pygments_lexer": "ipython3",
      "version": "3.6.9"
    },
    "colab": {
      "provenance": [],
      "include_colab_link": true
    }
  },
  "nbformat": 4,
  "nbformat_minor": 0
}